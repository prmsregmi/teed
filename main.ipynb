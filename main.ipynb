{
 "cells": [
  {
   "cell_type": "code",
   "execution_count": null,
   "metadata": {},
   "outputs": [
    {
     "name": "stdout",
     "output_type": "stream",
     "text": [
      "Generating real image based samples...\n"
     ]
    },
    {
     "name": "stderr",
     "output_type": "stream",
     "text": [
      "0it [00:00, ?it/s]\n"
     ]
    },
    {
     "name": "stdout",
     "output_type": "stream",
     "text": [
      "Generating improved synthetic samples...\n",
      "data/textures\n"
     ]
    },
    {
     "name": "stderr",
     "output_type": "stream",
     "text": [
      "  0%|          | 0/500 [00:00<?, ?it/s]"
     ]
    },
    {
     "name": "stdout",
     "output_type": "stream",
     "text": [
      "Could not place object within constraints after 100 attempts.\n"
     ]
    },
    {
     "name": "stderr",
     "output_type": "stream",
     "text": [
      "  0%|          | 1/500 [00:00<02:17,  3.62it/s]"
     ]
    },
    {
     "name": "stdout",
     "output_type": "stream",
     "text": [
      "data/synthetic_train/BIPED/edges/imgs/train/rgbr/real/synthetic_shapes_0000.png\n"
     ]
    },
    {
     "name": "stderr",
     "output_type": "stream",
     "text": [
      "  0%|          | 2/500 [00:00<02:40,  3.10it/s]"
     ]
    },
    {
     "name": "stdout",
     "output_type": "stream",
     "text": [
      "data/synthetic_train/BIPED/edges/imgs/train/rgbr/real/synthetic_shapes_0001.png\n"
     ]
    },
    {
     "name": "stderr",
     "output_type": "stream",
     "text": [
      "  1%|          | 3/500 [00:00<02:34,  3.21it/s]"
     ]
    },
    {
     "name": "stdout",
     "output_type": "stream",
     "text": [
      "data/synthetic_train/BIPED/edges/imgs/train/rgbr/real/synthetic_shapes_0002.png\n"
     ]
    },
    {
     "name": "stderr",
     "output_type": "stream",
     "text": [
      "  1%|          | 5/500 [00:01<01:52,  4.42it/s]"
     ]
    },
    {
     "name": "stdout",
     "output_type": "stream",
     "text": [
      "data/synthetic_train/BIPED/edges/imgs/train/rgbr/real/synthetic_shapes_0003.png\n",
      "data/synthetic_train/BIPED/edges/imgs/train/rgbr/real/synthetic_shapes_0004.png\n"
     ]
    },
    {
     "name": "stderr",
     "output_type": "stream",
     "text": [
      "  1%|          | 6/500 [00:01<02:06,  3.92it/s]"
     ]
    },
    {
     "name": "stdout",
     "output_type": "stream",
     "text": [
      "data/synthetic_train/BIPED/edges/imgs/train/rgbr/real/synthetic_shapes_0005.png\n"
     ]
    },
    {
     "name": "stderr",
     "output_type": "stream",
     "text": [
      "  1%|▏         | 7/500 [00:01<01:59,  4.11it/s]"
     ]
    },
    {
     "name": "stdout",
     "output_type": "stream",
     "text": [
      "data/synthetic_train/BIPED/edges/imgs/train/rgbr/real/synthetic_shapes_0006.png\n"
     ]
    },
    {
     "name": "stderr",
     "output_type": "stream",
     "text": [
      "  2%|▏         | 8/500 [00:02<02:04,  3.94it/s]"
     ]
    },
    {
     "name": "stdout",
     "output_type": "stream",
     "text": [
      "data/synthetic_train/BIPED/edges/imgs/train/rgbr/real/synthetic_shapes_0007.png\n"
     ]
    },
    {
     "name": "stderr",
     "output_type": "stream",
     "text": [
      "  2%|▏         | 9/500 [00:02<02:17,  3.57it/s]"
     ]
    },
    {
     "name": "stdout",
     "output_type": "stream",
     "text": [
      "data/synthetic_train/BIPED/edges/imgs/train/rgbr/real/synthetic_shapes_0008.png\n"
     ]
    },
    {
     "name": "stderr",
     "output_type": "stream",
     "text": [
      "  2%|▏         | 10/500 [00:02<02:16,  3.58it/s]"
     ]
    },
    {
     "name": "stdout",
     "output_type": "stream",
     "text": [
      "data/synthetic_train/BIPED/edges/imgs/train/rgbr/real/synthetic_shapes_0009.png\n"
     ]
    },
    {
     "name": "stderr",
     "output_type": "stream",
     "text": [
      "  2%|▏         | 12/500 [00:03<01:56,  4.18it/s]"
     ]
    },
    {
     "name": "stdout",
     "output_type": "stream",
     "text": [
      "data/synthetic_train/BIPED/edges/imgs/train/rgbr/real/synthetic_shapes_0010.png\n",
      "data/synthetic_train/BIPED/edges/imgs/train/rgbr/real/synthetic_shapes_0011.png\n"
     ]
    },
    {
     "name": "stderr",
     "output_type": "stream",
     "text": [
      "  3%|▎         | 13/500 [00:03<01:43,  4.72it/s]"
     ]
    },
    {
     "name": "stdout",
     "output_type": "stream",
     "text": [
      "data/synthetic_train/BIPED/edges/imgs/train/rgbr/real/synthetic_shapes_0012.png\n"
     ]
    },
    {
     "name": "stderr",
     "output_type": "stream",
     "text": [
      "  3%|▎         | 14/500 [00:03<02:03,  3.92it/s]"
     ]
    },
    {
     "name": "stdout",
     "output_type": "stream",
     "text": [
      "data/synthetic_train/BIPED/edges/imgs/train/rgbr/real/synthetic_shapes_0013.png\n"
     ]
    },
    {
     "name": "stderr",
     "output_type": "stream",
     "text": [
      "  3%|▎         | 15/500 [00:03<02:13,  3.63it/s]"
     ]
    },
    {
     "name": "stdout",
     "output_type": "stream",
     "text": [
      "data/synthetic_train/BIPED/edges/imgs/train/rgbr/real/synthetic_shapes_0014.png\n"
     ]
    },
    {
     "name": "stderr",
     "output_type": "stream",
     "text": [
      "  3%|▎         | 17/500 [00:04<02:01,  3.97it/s]"
     ]
    },
    {
     "name": "stdout",
     "output_type": "stream",
     "text": [
      "data/synthetic_train/BIPED/edges/imgs/train/rgbr/real/synthetic_shapes_0015.png\n",
      "data/synthetic_train/BIPED/edges/imgs/train/rgbr/real/synthetic_shapes_0016.png\n"
     ]
    },
    {
     "name": "stderr",
     "output_type": "stream",
     "text": [
      "  4%|▎         | 18/500 [00:04<01:56,  4.12it/s]"
     ]
    },
    {
     "name": "stdout",
     "output_type": "stream",
     "text": [
      "data/synthetic_train/BIPED/edges/imgs/train/rgbr/real/synthetic_shapes_0017.png\n"
     ]
    },
    {
     "name": "stderr",
     "output_type": "stream",
     "text": [
      "  4%|▍         | 19/500 [00:04<02:04,  3.86it/s]"
     ]
    },
    {
     "name": "stdout",
     "output_type": "stream",
     "text": [
      "data/synthetic_train/BIPED/edges/imgs/train/rgbr/real/synthetic_shapes_0018.png\n"
     ]
    },
    {
     "name": "stderr",
     "output_type": "stream",
     "text": [
      "  4%|▍         | 20/500 [00:05<02:10,  3.69it/s]"
     ]
    },
    {
     "name": "stdout",
     "output_type": "stream",
     "text": [
      "data/synthetic_train/BIPED/edges/imgs/train/rgbr/real/synthetic_shapes_0019.png\n"
     ]
    },
    {
     "name": "stderr",
     "output_type": "stream",
     "text": [
      "  4%|▍         | 21/500 [00:05<02:01,  3.93it/s]"
     ]
    },
    {
     "name": "stdout",
     "output_type": "stream",
     "text": [
      "data/synthetic_train/BIPED/edges/imgs/train/rgbr/real/synthetic_shapes_0020.png\n"
     ]
    },
    {
     "name": "stderr",
     "output_type": "stream",
     "text": [
      "  4%|▍         | 22/500 [00:05<02:00,  3.96it/s]"
     ]
    },
    {
     "name": "stdout",
     "output_type": "stream",
     "text": [
      "data/synthetic_train/BIPED/edges/imgs/train/rgbr/real/synthetic_shapes_0021.png\n"
     ]
    },
    {
     "name": "stderr",
     "output_type": "stream",
     "text": [
      "  5%|▍         | 24/500 [00:06<01:45,  4.51it/s]"
     ]
    },
    {
     "name": "stdout",
     "output_type": "stream",
     "text": [
      "data/synthetic_train/BIPED/edges/imgs/train/rgbr/real/synthetic_shapes_0022.png\n",
      "data/synthetic_train/BIPED/edges/imgs/train/rgbr/real/synthetic_shapes_0023.png\n"
     ]
    },
    {
     "name": "stderr",
     "output_type": "stream",
     "text": [
      "  5%|▌         | 25/500 [00:06<01:57,  4.04it/s]"
     ]
    },
    {
     "name": "stdout",
     "output_type": "stream",
     "text": [
      "data/synthetic_train/BIPED/edges/imgs/train/rgbr/real/synthetic_shapes_0024.png\n"
     ]
    },
    {
     "name": "stderr",
     "output_type": "stream",
     "text": [
      "  5%|▌         | 26/500 [00:06<01:50,  4.29it/s]"
     ]
    },
    {
     "name": "stdout",
     "output_type": "stream",
     "text": [
      "data/synthetic_train/BIPED/edges/imgs/train/rgbr/real/synthetic_shapes_0025.png\n",
      "data/synthetic_train/BIPED/edges/imgs/train/rgbr/real/synthetic_shapes_0026.png\n"
     ]
    },
    {
     "name": "stderr",
     "output_type": "stream",
     "text": [
      "  6%|▌         | 28/500 [00:07<01:51,  4.22it/s]"
     ]
    },
    {
     "name": "stdout",
     "output_type": "stream",
     "text": [
      "data/synthetic_train/BIPED/edges/imgs/train/rgbr/real/synthetic_shapes_0027.png\n"
     ]
    },
    {
     "name": "stderr",
     "output_type": "stream",
     "text": [
      "  6%|▌         | 30/500 [00:07<02:00,  3.90it/s]"
     ]
    },
    {
     "name": "stdout",
     "output_type": "stream",
     "text": [
      "data/synthetic_train/BIPED/edges/imgs/train/rgbr/real/synthetic_shapes_0028.png\n",
      "data/synthetic_train/BIPED/edges/imgs/train/rgbr/real/synthetic_shapes_0029.png\n"
     ]
    },
    {
     "name": "stderr",
     "output_type": "stream",
     "text": [
      "  6%|▌         | 31/500 [00:07<01:46,  4.40it/s]"
     ]
    },
    {
     "name": "stdout",
     "output_type": "stream",
     "text": [
      "data/synthetic_train/BIPED/edges/imgs/train/rgbr/real/synthetic_shapes_0030.png\n"
     ]
    },
    {
     "name": "stderr",
     "output_type": "stream",
     "text": [
      "  6%|▋         | 32/500 [00:08<01:54,  4.10it/s]"
     ]
    },
    {
     "name": "stdout",
     "output_type": "stream",
     "text": [
      "data/synthetic_train/BIPED/edges/imgs/train/rgbr/real/synthetic_shapes_0031.png\n"
     ]
    },
    {
     "name": "stderr",
     "output_type": "stream",
     "text": [
      "  7%|▋         | 33/500 [00:08<02:00,  3.88it/s]"
     ]
    },
    {
     "name": "stdout",
     "output_type": "stream",
     "text": [
      "data/synthetic_train/BIPED/edges/imgs/train/rgbr/real/synthetic_shapes_0032.png\n"
     ]
    },
    {
     "name": "stderr",
     "output_type": "stream",
     "text": [
      "  7%|▋         | 34/500 [00:08<02:06,  3.69it/s]"
     ]
    },
    {
     "name": "stdout",
     "output_type": "stream",
     "text": [
      "data/synthetic_train/BIPED/edges/imgs/train/rgbr/real/synthetic_shapes_0033.png\n"
     ]
    },
    {
     "name": "stderr",
     "output_type": "stream",
     "text": [
      "  7%|▋         | 35/500 [00:09<02:26,  3.18it/s]"
     ]
    },
    {
     "name": "stdout",
     "output_type": "stream",
     "text": [
      "data/synthetic_train/BIPED/edges/imgs/train/rgbr/real/synthetic_shapes_0034.png\n"
     ]
    },
    {
     "name": "stderr",
     "output_type": "stream",
     "text": [
      "  7%|▋         | 37/500 [00:09<02:00,  3.84it/s]"
     ]
    },
    {
     "name": "stdout",
     "output_type": "stream",
     "text": [
      "data/synthetic_train/BIPED/edges/imgs/train/rgbr/real/synthetic_shapes_0035.png\n",
      "data/synthetic_train/BIPED/edges/imgs/train/rgbr/real/synthetic_shapes_0036.png\n",
      "Could not place object within constraints after 100 attempts.\n"
     ]
    },
    {
     "name": "stderr",
     "output_type": "stream",
     "text": [
      "  8%|▊         | 38/500 [00:09<02:25,  3.17it/s]"
     ]
    },
    {
     "name": "stdout",
     "output_type": "stream",
     "text": [
      "data/synthetic_train/BIPED/edges/imgs/train/rgbr/real/synthetic_shapes_0037.png\n",
      "data/synthetic_train/BIPED/edges/imgs/train/rgbr/real/synthetic_shapes_0038.png\n"
     ]
    },
    {
     "name": "stderr",
     "output_type": "stream",
     "text": [
      "  8%|▊         | 40/500 [00:10<01:59,  3.85it/s]"
     ]
    },
    {
     "name": "stdout",
     "output_type": "stream",
     "text": [
      "data/synthetic_train/BIPED/edges/imgs/train/rgbr/real/synthetic_shapes_0039.png\n"
     ]
    },
    {
     "name": "stderr",
     "output_type": "stream",
     "text": [
      "  8%|▊         | 41/500 [00:10<01:55,  3.98it/s]"
     ]
    },
    {
     "name": "stdout",
     "output_type": "stream",
     "text": [
      "data/synthetic_train/BIPED/edges/imgs/train/rgbr/real/synthetic_shapes_0040.png\n"
     ]
    },
    {
     "name": "stderr",
     "output_type": "stream",
     "text": [
      "  8%|▊         | 42/500 [00:10<01:53,  4.05it/s]"
     ]
    },
    {
     "name": "stdout",
     "output_type": "stream",
     "text": [
      "data/synthetic_train/BIPED/edges/imgs/train/rgbr/real/synthetic_shapes_0041.png\n"
     ]
    },
    {
     "name": "stderr",
     "output_type": "stream",
     "text": [
      "  9%|▊         | 43/500 [00:11<01:58,  3.86it/s]"
     ]
    },
    {
     "name": "stdout",
     "output_type": "stream",
     "text": [
      "data/synthetic_train/BIPED/edges/imgs/train/rgbr/real/synthetic_shapes_0042.png\n"
     ]
    },
    {
     "name": "stderr",
     "output_type": "stream",
     "text": [
      "  9%|▉         | 45/500 [00:11<01:46,  4.29it/s]"
     ]
    },
    {
     "name": "stdout",
     "output_type": "stream",
     "text": [
      "data/synthetic_train/BIPED/edges/imgs/train/rgbr/real/synthetic_shapes_0043.png\n",
      "data/synthetic_train/BIPED/edges/imgs/train/rgbr/real/synthetic_shapes_0044.png\n"
     ]
    },
    {
     "name": "stderr",
     "output_type": "stream",
     "text": [
      "  9%|▉         | 47/500 [00:11<01:32,  4.87it/s]"
     ]
    },
    {
     "name": "stdout",
     "output_type": "stream",
     "text": [
      "data/synthetic_train/BIPED/edges/imgs/train/rgbr/real/synthetic_shapes_0045.png\n",
      "data/synthetic_train/BIPED/edges/imgs/train/rgbr/real/synthetic_shapes_0046.png\n"
     ]
    },
    {
     "name": "stderr",
     "output_type": "stream",
     "text": [
      " 10%|▉         | 48/500 [00:12<01:39,  4.54it/s]"
     ]
    },
    {
     "name": "stdout",
     "output_type": "stream",
     "text": [
      "data/synthetic_train/BIPED/edges/imgs/train/rgbr/real/synthetic_shapes_0047.png\n"
     ]
    },
    {
     "name": "stderr",
     "output_type": "stream",
     "text": [
      " 10%|▉         | 49/500 [00:12<02:02,  3.69it/s]"
     ]
    },
    {
     "name": "stdout",
     "output_type": "stream",
     "text": [
      "data/synthetic_train/BIPED/edges/imgs/train/rgbr/real/synthetic_shapes_0048.png\n"
     ]
    },
    {
     "name": "stderr",
     "output_type": "stream",
     "text": [
      " 10%|█         | 50/500 [00:12<02:09,  3.46it/s]"
     ]
    },
    {
     "name": "stdout",
     "output_type": "stream",
     "text": [
      "data/synthetic_train/BIPED/edges/imgs/train/rgbr/real/synthetic_shapes_0049.png\n"
     ]
    },
    {
     "name": "stderr",
     "output_type": "stream",
     "text": [
      " 10%|█         | 51/500 [00:13<02:16,  3.30it/s]"
     ]
    },
    {
     "name": "stdout",
     "output_type": "stream",
     "text": [
      "data/synthetic_train/BIPED/edges/imgs/train/rgbr/real/synthetic_shapes_0050.png\n"
     ]
    },
    {
     "name": "stderr",
     "output_type": "stream",
     "text": [
      " 10%|█         | 52/500 [00:13<02:07,  3.52it/s]"
     ]
    },
    {
     "name": "stdout",
     "output_type": "stream",
     "text": [
      "data/synthetic_train/BIPED/edges/imgs/train/rgbr/real/synthetic_shapes_0051.png\n"
     ]
    },
    {
     "name": "stderr",
     "output_type": "stream",
     "text": [
      " 11%|█         | 53/500 [00:13<01:58,  3.77it/s]"
     ]
    },
    {
     "name": "stdout",
     "output_type": "stream",
     "text": [
      "data/synthetic_train/BIPED/edges/imgs/train/rgbr/real/synthetic_shapes_0052.png\n"
     ]
    },
    {
     "name": "stderr",
     "output_type": "stream",
     "text": [
      " 11%|█         | 54/500 [00:13<01:54,  3.90it/s]"
     ]
    },
    {
     "name": "stdout",
     "output_type": "stream",
     "text": [
      "data/synthetic_train/BIPED/edges/imgs/train/rgbr/real/synthetic_shapes_0053.png\n"
     ]
    },
    {
     "name": "stderr",
     "output_type": "stream",
     "text": [
      " 11%|█         | 55/500 [00:14<01:50,  4.01it/s]"
     ]
    },
    {
     "name": "stdout",
     "output_type": "stream",
     "text": [
      "data/synthetic_train/BIPED/edges/imgs/train/rgbr/real/synthetic_shapes_0054.png\n"
     ]
    },
    {
     "name": "stderr",
     "output_type": "stream",
     "text": [
      " 11%|█         | 56/500 [00:14<02:11,  3.37it/s]"
     ]
    },
    {
     "name": "stdout",
     "output_type": "stream",
     "text": [
      "data/synthetic_train/BIPED/edges/imgs/train/rgbr/real/synthetic_shapes_0055.png\n"
     ]
    },
    {
     "name": "stderr",
     "output_type": "stream",
     "text": [
      " 11%|█▏        | 57/500 [00:14<01:59,  3.72it/s]"
     ]
    },
    {
     "name": "stdout",
     "output_type": "stream",
     "text": [
      "data/synthetic_train/BIPED/edges/imgs/train/rgbr/real/synthetic_shapes_0056.png\n"
     ]
    },
    {
     "name": "stderr",
     "output_type": "stream",
     "text": [
      " 12%|█▏        | 58/500 [00:15<02:07,  3.47it/s]"
     ]
    },
    {
     "name": "stdout",
     "output_type": "stream",
     "text": [
      "data/synthetic_train/BIPED/edges/imgs/train/rgbr/real/synthetic_shapes_0057.png\n"
     ]
    },
    {
     "name": "stderr",
     "output_type": "stream",
     "text": [
      " 12%|█▏        | 59/500 [00:15<02:11,  3.35it/s]"
     ]
    },
    {
     "name": "stdout",
     "output_type": "stream",
     "text": [
      "data/synthetic_train/BIPED/edges/imgs/train/rgbr/real/synthetic_shapes_0058.png\n"
     ]
    },
    {
     "name": "stderr",
     "output_type": "stream",
     "text": [
      " 12%|█▏        | 60/500 [00:15<02:07,  3.44it/s]"
     ]
    },
    {
     "name": "stdout",
     "output_type": "stream",
     "text": [
      "data/synthetic_train/BIPED/edges/imgs/train/rgbr/real/synthetic_shapes_0059.png\n"
     ]
    },
    {
     "name": "stderr",
     "output_type": "stream",
     "text": [
      " 12%|█▏        | 61/500 [00:16<02:06,  3.48it/s]"
     ]
    },
    {
     "name": "stdout",
     "output_type": "stream",
     "text": [
      "data/synthetic_train/BIPED/edges/imgs/train/rgbr/real/synthetic_shapes_0060.png\n"
     ]
    },
    {
     "name": "stderr",
     "output_type": "stream",
     "text": [
      " 12%|█▏        | 62/500 [00:16<01:56,  3.77it/s]"
     ]
    },
    {
     "name": "stdout",
     "output_type": "stream",
     "text": [
      "data/synthetic_train/BIPED/edges/imgs/train/rgbr/real/synthetic_shapes_0061.png\n"
     ]
    },
    {
     "name": "stderr",
     "output_type": "stream",
     "text": [
      " 13%|█▎        | 63/500 [00:16<01:56,  3.75it/s]"
     ]
    },
    {
     "name": "stdout",
     "output_type": "stream",
     "text": [
      "data/synthetic_train/BIPED/edges/imgs/train/rgbr/real/synthetic_shapes_0062.png\n"
     ]
    },
    {
     "name": "stderr",
     "output_type": "stream",
     "text": [
      " 13%|█▎        | 64/500 [00:16<01:47,  4.06it/s]"
     ]
    },
    {
     "name": "stdout",
     "output_type": "stream",
     "text": [
      "data/synthetic_train/BIPED/edges/imgs/train/rgbr/real/synthetic_shapes_0063.png\n"
     ]
    },
    {
     "name": "stderr",
     "output_type": "stream",
     "text": [
      " 13%|█▎        | 65/500 [00:17<01:54,  3.78it/s]"
     ]
    },
    {
     "name": "stdout",
     "output_type": "stream",
     "text": [
      "data/synthetic_train/BIPED/edges/imgs/train/rgbr/real/synthetic_shapes_0064.png\n"
     ]
    },
    {
     "name": "stderr",
     "output_type": "stream",
     "text": [
      " 13%|█▎        | 66/500 [00:17<01:53,  3.81it/s]"
     ]
    },
    {
     "name": "stdout",
     "output_type": "stream",
     "text": [
      "data/synthetic_train/BIPED/edges/imgs/train/rgbr/real/synthetic_shapes_0065.png\n",
      "Could not place object within constraints after 100 attempts.\n"
     ]
    },
    {
     "name": "stderr",
     "output_type": "stream",
     "text": [
      " 13%|█▎        | 67/500 [00:17<02:05,  3.46it/s]"
     ]
    },
    {
     "name": "stdout",
     "output_type": "stream",
     "text": [
      "data/synthetic_train/BIPED/edges/imgs/train/rgbr/real/synthetic_shapes_0066.png\n"
     ]
    },
    {
     "name": "stderr",
     "output_type": "stream",
     "text": [
      " 14%|█▎        | 68/500 [00:17<01:57,  3.68it/s]"
     ]
    },
    {
     "name": "stdout",
     "output_type": "stream",
     "text": [
      "data/synthetic_train/BIPED/edges/imgs/train/rgbr/real/synthetic_shapes_0067.png\n",
      "data/synthetic_train/BIPED/edges/imgs/train/rgbr/real/synthetic_shapes_0068.png\n"
     ]
    },
    {
     "name": "stderr",
     "output_type": "stream",
     "text": [
      " 14%|█▍        | 70/500 [00:18<02:16,  3.15it/s]"
     ]
    },
    {
     "name": "stdout",
     "output_type": "stream",
     "text": [
      "data/synthetic_train/BIPED/edges/imgs/train/rgbr/real/synthetic_shapes_0069.png\n"
     ]
    },
    {
     "name": "stderr",
     "output_type": "stream",
     "text": [
      " 14%|█▍        | 71/500 [00:18<02:32,  2.81it/s]"
     ]
    },
    {
     "name": "stdout",
     "output_type": "stream",
     "text": [
      "data/synthetic_train/BIPED/edges/imgs/train/rgbr/real/synthetic_shapes_0070.png\n"
     ]
    },
    {
     "name": "stderr",
     "output_type": "stream",
     "text": [
      " 14%|█▍        | 72/500 [00:19<02:25,  2.93it/s]"
     ]
    },
    {
     "name": "stdout",
     "output_type": "stream",
     "text": [
      "data/synthetic_train/BIPED/edges/imgs/train/rgbr/real/synthetic_shapes_0071.png\n"
     ]
    },
    {
     "name": "stderr",
     "output_type": "stream",
     "text": [
      " 15%|█▍        | 73/500 [00:19<02:21,  3.02it/s]"
     ]
    },
    {
     "name": "stdout",
     "output_type": "stream",
     "text": [
      "data/synthetic_train/BIPED/edges/imgs/train/rgbr/real/synthetic_shapes_0072.png\n"
     ]
    },
    {
     "name": "stderr",
     "output_type": "stream",
     "text": [
      " 15%|█▍        | 74/500 [00:19<02:10,  3.26it/s]"
     ]
    },
    {
     "name": "stdout",
     "output_type": "stream",
     "text": [
      "data/synthetic_train/BIPED/edges/imgs/train/rgbr/real/synthetic_shapes_0073.png\n"
     ]
    },
    {
     "name": "stderr",
     "output_type": "stream",
     "text": [
      " 15%|█▌        | 76/500 [00:20<01:38,  4.32it/s]"
     ]
    },
    {
     "name": "stdout",
     "output_type": "stream",
     "text": [
      "data/synthetic_train/BIPED/edges/imgs/train/rgbr/real/synthetic_shapes_0074.png\n",
      "data/synthetic_train/BIPED/edges/imgs/train/rgbr/real/synthetic_shapes_0075.png\n"
     ]
    },
    {
     "name": "stderr",
     "output_type": "stream",
     "text": [
      " 15%|█▌        | 77/500 [00:20<01:57,  3.61it/s]"
     ]
    },
    {
     "name": "stdout",
     "output_type": "stream",
     "text": [
      "data/synthetic_train/BIPED/edges/imgs/train/rgbr/real/synthetic_shapes_0076.png\n",
      "Could not place object within constraints after 100 attempts.\n"
     ]
    },
    {
     "name": "stderr",
     "output_type": "stream",
     "text": [
      " 16%|█▌        | 78/500 [00:20<01:51,  3.77it/s]"
     ]
    },
    {
     "name": "stdout",
     "output_type": "stream",
     "text": [
      "data/synthetic_train/BIPED/edges/imgs/train/rgbr/real/synthetic_shapes_0077.png\n"
     ]
    },
    {
     "name": "stderr",
     "output_type": "stream",
     "text": [
      " 16%|█▌        | 79/500 [00:21<01:42,  4.09it/s]"
     ]
    },
    {
     "name": "stdout",
     "output_type": "stream",
     "text": [
      "data/synthetic_train/BIPED/edges/imgs/train/rgbr/real/synthetic_shapes_0078.png\n"
     ]
    },
    {
     "name": "stderr",
     "output_type": "stream",
     "text": [
      " 16%|█▌        | 80/500 [00:21<02:00,  3.49it/s]"
     ]
    },
    {
     "name": "stdout",
     "output_type": "stream",
     "text": [
      "data/synthetic_train/BIPED/edges/imgs/train/rgbr/real/synthetic_shapes_0079.png\n"
     ]
    },
    {
     "name": "stderr",
     "output_type": "stream",
     "text": [
      " 16%|█▌        | 81/500 [00:21<02:01,  3.44it/s]"
     ]
    },
    {
     "name": "stdout",
     "output_type": "stream",
     "text": [
      "data/synthetic_train/BIPED/edges/imgs/train/rgbr/real/synthetic_shapes_0080.png\n"
     ]
    },
    {
     "name": "stderr",
     "output_type": "stream",
     "text": [
      " 16%|█▋        | 82/500 [00:22<02:19,  3.00it/s]"
     ]
    },
    {
     "name": "stdout",
     "output_type": "stream",
     "text": [
      "data/synthetic_train/BIPED/edges/imgs/train/rgbr/real/synthetic_shapes_0081.png\n"
     ]
    },
    {
     "name": "stderr",
     "output_type": "stream",
     "text": [
      " 17%|█▋        | 83/500 [00:22<02:30,  2.78it/s]"
     ]
    },
    {
     "name": "stdout",
     "output_type": "stream",
     "text": [
      "data/synthetic_train/BIPED/edges/imgs/train/rgbr/real/synthetic_shapes_0082.png\n"
     ]
    },
    {
     "name": "stderr",
     "output_type": "stream",
     "text": [
      " 17%|█▋        | 84/500 [00:22<02:20,  2.97it/s]"
     ]
    },
    {
     "name": "stdout",
     "output_type": "stream",
     "text": [
      "data/synthetic_train/BIPED/edges/imgs/train/rgbr/real/synthetic_shapes_0083.png\n"
     ]
    },
    {
     "name": "stderr",
     "output_type": "stream",
     "text": [
      " 17%|█▋        | 85/500 [00:23<02:15,  3.06it/s]"
     ]
    },
    {
     "name": "stdout",
     "output_type": "stream",
     "text": [
      "data/synthetic_train/BIPED/edges/imgs/train/rgbr/real/synthetic_shapes_0084.png\n"
     ]
    },
    {
     "name": "stderr",
     "output_type": "stream",
     "text": [
      " 17%|█▋        | 86/500 [00:23<02:00,  3.45it/s]"
     ]
    },
    {
     "name": "stdout",
     "output_type": "stream",
     "text": [
      "data/synthetic_train/BIPED/edges/imgs/train/rgbr/real/synthetic_shapes_0085.png\n"
     ]
    },
    {
     "name": "stderr",
     "output_type": "stream",
     "text": [
      " 17%|█▋        | 87/500 [00:23<01:51,  3.70it/s]"
     ]
    },
    {
     "name": "stdout",
     "output_type": "stream",
     "text": [
      "data/synthetic_train/BIPED/edges/imgs/train/rgbr/real/synthetic_shapes_0086.png\n"
     ]
    },
    {
     "name": "stderr",
     "output_type": "stream",
     "text": [
      " 18%|█▊        | 88/500 [00:23<02:02,  3.37it/s]"
     ]
    },
    {
     "name": "stdout",
     "output_type": "stream",
     "text": [
      "data/synthetic_train/BIPED/edges/imgs/train/rgbr/real/synthetic_shapes_0087.png\n",
      "data/synthetic_train/BIPED/edges/imgs/train/rgbr/real/synthetic_shapes_0088.png\n"
     ]
    },
    {
     "name": "stderr",
     "output_type": "stream",
     "text": [
      " 18%|█▊        | 90/500 [00:24<01:45,  3.89it/s]"
     ]
    },
    {
     "name": "stdout",
     "output_type": "stream",
     "text": [
      "data/synthetic_train/BIPED/edges/imgs/train/rgbr/real/synthetic_shapes_0089.png\n"
     ]
    },
    {
     "name": "stderr",
     "output_type": "stream",
     "text": [
      " 18%|█▊        | 91/500 [00:24<01:42,  3.98it/s]"
     ]
    },
    {
     "name": "stdout",
     "output_type": "stream",
     "text": [
      "data/synthetic_train/BIPED/edges/imgs/train/rgbr/real/synthetic_shapes_0090.png\n"
     ]
    },
    {
     "name": "stderr",
     "output_type": "stream",
     "text": [
      " 19%|█▊        | 93/500 [00:25<01:36,  4.23it/s]"
     ]
    },
    {
     "name": "stdout",
     "output_type": "stream",
     "text": [
      "data/synthetic_train/BIPED/edges/imgs/train/rgbr/real/synthetic_shapes_0091.png\n",
      "data/synthetic_train/BIPED/edges/imgs/train/rgbr/real/synthetic_shapes_0092.png\n"
     ]
    },
    {
     "name": "stderr",
     "output_type": "stream",
     "text": [
      " 19%|█▉        | 94/500 [00:25<01:44,  3.88it/s]"
     ]
    },
    {
     "name": "stdout",
     "output_type": "stream",
     "text": [
      "data/synthetic_train/BIPED/edges/imgs/train/rgbr/real/synthetic_shapes_0093.png\n"
     ]
    },
    {
     "name": "stderr",
     "output_type": "stream",
     "text": [
      " 19%|█▉        | 95/500 [00:25<01:49,  3.70it/s]"
     ]
    },
    {
     "name": "stdout",
     "output_type": "stream",
     "text": [
      "data/synthetic_train/BIPED/edges/imgs/train/rgbr/real/synthetic_shapes_0094.png\n"
     ]
    },
    {
     "name": "stderr",
     "output_type": "stream",
     "text": [
      " 19%|█▉        | 97/500 [00:26<01:37,  4.13it/s]"
     ]
    },
    {
     "name": "stdout",
     "output_type": "stream",
     "text": [
      "data/synthetic_train/BIPED/edges/imgs/train/rgbr/real/synthetic_shapes_0095.png\n",
      "data/synthetic_train/BIPED/edges/imgs/train/rgbr/real/synthetic_shapes_0096.png\n"
     ]
    },
    {
     "name": "stderr",
     "output_type": "stream",
     "text": [
      " 20%|█▉        | 98/500 [00:26<01:36,  4.17it/s]"
     ]
    },
    {
     "name": "stdout",
     "output_type": "stream",
     "text": [
      "data/synthetic_train/BIPED/edges/imgs/train/rgbr/real/synthetic_shapes_0097.png\n"
     ]
    },
    {
     "name": "stderr",
     "output_type": "stream",
     "text": [
      " 20%|█▉        | 99/500 [00:26<01:48,  3.70it/s]"
     ]
    },
    {
     "name": "stdout",
     "output_type": "stream",
     "text": [
      "data/synthetic_train/BIPED/edges/imgs/train/rgbr/real/synthetic_shapes_0098.png\n"
     ]
    },
    {
     "name": "stderr",
     "output_type": "stream",
     "text": [
      " 20%|██        | 101/500 [00:27<01:38,  4.07it/s]"
     ]
    },
    {
     "name": "stdout",
     "output_type": "stream",
     "text": [
      "data/synthetic_train/BIPED/edges/imgs/train/rgbr/real/synthetic_shapes_0099.png\n",
      "data/synthetic_train/BIPED/edges/imgs/train/rgbr/real/synthetic_shapes_0100.png\n"
     ]
    },
    {
     "name": "stderr",
     "output_type": "stream",
     "text": [
      "/Users/prms/Projects/Personal/TEED/synthetic_data/draw_png.py:54: RuntimeWarning: invalid value encountered in scalar divide\n",
      "  overlap_ratio = np.sum((region > 0) & (mask > 0)) / np.sum(mask > 0)\n"
     ]
    },
    {
     "name": "stdout",
     "output_type": "stream",
     "text": [
      "Could not place object within constraints after 100 attempts.\n"
     ]
    },
    {
     "name": "stderr",
     "output_type": "stream",
     "text": [
      " 20%|██        | 102/500 [00:27<01:56,  3.43it/s]"
     ]
    },
    {
     "name": "stdout",
     "output_type": "stream",
     "text": [
      "data/synthetic_train/BIPED/edges/imgs/train/rgbr/real/synthetic_shapes_0101.png\n"
     ]
    },
    {
     "name": "stderr",
     "output_type": "stream",
     "text": [
      " 21%|██        | 103/500 [00:27<02:06,  3.14it/s]"
     ]
    },
    {
     "name": "stdout",
     "output_type": "stream",
     "text": [
      "data/synthetic_train/BIPED/edges/imgs/train/rgbr/real/synthetic_shapes_0102.png\n"
     ]
    },
    {
     "name": "stderr",
     "output_type": "stream",
     "text": [
      " 21%|██        | 104/500 [00:28<02:21,  2.80it/s]"
     ]
    },
    {
     "name": "stdout",
     "output_type": "stream",
     "text": [
      "data/synthetic_train/BIPED/edges/imgs/train/rgbr/real/synthetic_shapes_0103.png\n"
     ]
    },
    {
     "name": "stderr",
     "output_type": "stream",
     "text": [
      " 21%|██        | 105/500 [00:28<02:24,  2.74it/s]"
     ]
    },
    {
     "name": "stdout",
     "output_type": "stream",
     "text": [
      "data/synthetic_train/BIPED/edges/imgs/train/rgbr/real/synthetic_shapes_0104.png\n",
      "data/synthetic_train/BIPED/edges/imgs/train/rgbr/real/synthetic_shapes_0105.png\n"
     ]
    },
    {
     "name": "stderr",
     "output_type": "stream",
     "text": [
      " 21%|██▏       | 107/500 [00:29<01:55,  3.39it/s]"
     ]
    },
    {
     "name": "stdout",
     "output_type": "stream",
     "text": [
      "data/synthetic_train/BIPED/edges/imgs/train/rgbr/real/synthetic_shapes_0106.png\n"
     ]
    },
    {
     "name": "stderr",
     "output_type": "stream",
     "text": [
      " 22%|██▏       | 108/500 [00:29<01:50,  3.56it/s]"
     ]
    },
    {
     "name": "stdout",
     "output_type": "stream",
     "text": [
      "data/synthetic_train/BIPED/edges/imgs/train/rgbr/real/synthetic_shapes_0107.png\n"
     ]
    },
    {
     "name": "stderr",
     "output_type": "stream",
     "text": [
      " 22%|██▏       | 109/500 [00:29<01:55,  3.38it/s]"
     ]
    },
    {
     "name": "stdout",
     "output_type": "stream",
     "text": [
      "data/synthetic_train/BIPED/edges/imgs/train/rgbr/real/synthetic_shapes_0108.png\n",
      "Could not place object within constraints after 100 attempts.\n"
     ]
    },
    {
     "name": "stderr",
     "output_type": "stream",
     "text": [
      " 22%|██▏       | 110/500 [00:30<02:17,  2.84it/s]"
     ]
    },
    {
     "name": "stdout",
     "output_type": "stream",
     "text": [
      "data/synthetic_train/BIPED/edges/imgs/train/rgbr/real/synthetic_shapes_0109.png\n"
     ]
    },
    {
     "name": "stderr",
     "output_type": "stream",
     "text": [
      " 22%|██▏       | 111/500 [00:30<02:17,  2.83it/s]"
     ]
    },
    {
     "name": "stdout",
     "output_type": "stream",
     "text": [
      "data/synthetic_train/BIPED/edges/imgs/train/rgbr/real/synthetic_shapes_0110.png\n"
     ]
    },
    {
     "name": "stderr",
     "output_type": "stream",
     "text": [
      " 22%|██▏       | 112/500 [00:30<02:03,  3.14it/s]"
     ]
    },
    {
     "name": "stdout",
     "output_type": "stream",
     "text": [
      "data/synthetic_train/BIPED/edges/imgs/train/rgbr/real/synthetic_shapes_0111.png\n"
     ]
    },
    {
     "name": "stderr",
     "output_type": "stream",
     "text": [
      " 23%|██▎       | 113/500 [00:31<01:58,  3.26it/s]"
     ]
    },
    {
     "name": "stdout",
     "output_type": "stream",
     "text": [
      "data/synthetic_train/BIPED/edges/imgs/train/rgbr/real/synthetic_shapes_0112.png\n"
     ]
    },
    {
     "name": "stderr",
     "output_type": "stream",
     "text": [
      " 23%|██▎       | 114/500 [00:31<01:53,  3.39it/s]"
     ]
    },
    {
     "name": "stdout",
     "output_type": "stream",
     "text": [
      "data/synthetic_train/BIPED/edges/imgs/train/rgbr/real/synthetic_shapes_0113.png\n"
     ]
    },
    {
     "name": "stderr",
     "output_type": "stream",
     "text": [
      " 23%|██▎       | 115/500 [00:31<01:43,  3.72it/s]"
     ]
    },
    {
     "name": "stdout",
     "output_type": "stream",
     "text": [
      "data/synthetic_train/BIPED/edges/imgs/train/rgbr/real/synthetic_shapes_0114.png\n"
     ]
    },
    {
     "name": "stderr",
     "output_type": "stream",
     "text": [
      " 23%|██▎       | 115/500 [00:31<01:46,  3.61it/s]\n"
     ]
    },
    {
     "ename": "KeyboardInterrupt",
     "evalue": "",
     "output_type": "error",
     "traceback": [
      "\u001b[31m---------------------------------------------------------------------------\u001b[39m",
      "\u001b[31mKeyboardInterrupt\u001b[39m                         Traceback (most recent call last)",
      "\u001b[36mCell\u001b[39m\u001b[36m \u001b[39m\u001b[32mIn[1]\u001b[39m\u001b[32m, line 2\u001b[39m\n\u001b[32m      1\u001b[39m \u001b[38;5;28;01mfrom\u001b[39;00m\u001b[38;5;250m \u001b[39m\u001b[34;01msynthetic_data\u001b[39;00m\u001b[38;5;250m \u001b[39m\u001b[38;5;28;01mimport\u001b[39;00m generate_synthetic\n\u001b[32m----> \u001b[39m\u001b[32m2\u001b[39m \u001b[43mgenerate_synthetic\u001b[49m\u001b[43m(\u001b[49m\u001b[32;43m0\u001b[39;49m\u001b[43m,\u001b[49m\u001b[43m \u001b[49m\u001b[32;43m500\u001b[39;49m\u001b[43m)\u001b[49m\n",
      "\u001b[36mFile \u001b[39m\u001b[32m~/Projects/Personal/TEED/synthetic_data/synthetic_dataset_generator.py:850\u001b[39m, in \u001b[36mgenerate_synthetic\u001b[39m\u001b[34m(real, synthetic)\u001b[39m\n\u001b[32m    847\u001b[39m output_dir = \u001b[33m\"\u001b[39m\u001b[33m./data/synthetic_train/BIPED/edges\u001b[39m\u001b[33m\"\u001b[39m\n\u001b[32m    848\u001b[39m texture_dir = \u001b[33m\"\u001b[39m\u001b[33m./data/textures\u001b[39m\u001b[33m\"\u001b[39m\n\u001b[32m--> \u001b[39m\u001b[32m850\u001b[39m \u001b[43mprocess_and_save_images\u001b[49m\u001b[43m(\u001b[49m\n\u001b[32m    851\u001b[39m \u001b[43m        \u001b[49m\u001b[43mreal_img_dir\u001b[49m\u001b[43m=\u001b[49m\u001b[43mreal_img_dir\u001b[49m\u001b[43m,\u001b[49m\n\u001b[32m    852\u001b[39m \u001b[43m        \u001b[49m\u001b[43mpng_dir\u001b[49m\u001b[43m=\u001b[49m\u001b[43mpng_dir\u001b[49m\u001b[43m,\u001b[49m\n\u001b[32m    853\u001b[39m \u001b[43m        \u001b[49m\u001b[43moutput_dir\u001b[49m\u001b[43m=\u001b[49m\u001b[43moutput_dir\u001b[49m\u001b[43m,\u001b[49m\n\u001b[32m    854\u001b[39m \u001b[43m        \u001b[49m\u001b[43mimg_type\u001b[49m\u001b[43m=\u001b[49m\u001b[43mimg_type\u001b[49m\u001b[43m,\u001b[49m\u001b[43m  \u001b[49m\u001b[38;5;66;43;03m# Use the terminal argument or default\u001b[39;49;00m\n\u001b[32m    855\u001b[39m \u001b[43m        \u001b[49m\u001b[43mnum_synthetic\u001b[49m\u001b[43m=\u001b[49m\u001b[43msynthetic\u001b[49m\u001b[43m,\u001b[49m\u001b[43m  \u001b[49m\u001b[38;5;66;43;03m# Number of synthetic background samples\u001b[39;49;00m\n\u001b[32m    856\u001b[39m \u001b[43m        \u001b[49m\u001b[43mnum_real\u001b[49m\u001b[43m=\u001b[49m\u001b[43mreal\u001b[49m\u001b[43m,\u001b[49m\u001b[43m  \u001b[49m\u001b[38;5;66;43;03m# Number of real image-based samples\u001b[39;49;00m\n\u001b[32m    857\u001b[39m \u001b[43m        \u001b[49m\u001b[43mtexture_dir\u001b[49m\u001b[43m=\u001b[49m\u001b[43mtexture_dir\u001b[49m\u001b[43m,\u001b[49m\n\u001b[32m    858\u001b[39m \u001b[43m        \u001b[49m\u001b[38;5;66;43;03m# image_size=(1280, 1280),\u001b[39;49;00m\n\u001b[32m    859\u001b[39m \u001b[43m        \u001b[49m\u001b[38;5;66;43;03m# preprocessing_size=(512, 512)\u001b[39;49;00m\n\u001b[32m    860\u001b[39m \u001b[43m\u001b[49m\u001b[43m)\u001b[49m\n",
      "\u001b[36mFile \u001b[39m\u001b[32m~/Projects/Personal/TEED/synthetic_data/synthetic_dataset_generator.py:839\u001b[39m, in \u001b[36mprocess_and_save_images\u001b[39m\u001b[34m(real_img_dir, png_dir, output_dir, img_type, num_synthetic, num_real, texture_dir, image_size, preprocessing_size)\u001b[39m\n\u001b[32m    835\u001b[39m (output_dir / \u001b[33m'\u001b[39m\u001b[33medge_maps/train/rgbr/real\u001b[39m\u001b[33m'\u001b[39m).mkdir(parents=\u001b[38;5;28;01mTrue\u001b[39;00m, exist_ok=\u001b[38;5;28;01mTrue\u001b[39;00m)\n\u001b[32m    838\u001b[39m generate_real_image_sample(image_size, num_real, real_img_dir, preprocessing_size, output_dir, img_type, png_dir)\n\u001b[32m--> \u001b[39m\u001b[32m839\u001b[39m \u001b[43mgenerate_improved_synthetic_sample\u001b[49m\u001b[43m(\u001b[49m\u001b[43mimage_size\u001b[49m\u001b[43m,\u001b[49m\u001b[43m \u001b[49m\u001b[43mnum_synthetic\u001b[49m\u001b[43m,\u001b[49m\u001b[43m \u001b[49m\u001b[43mpreprocessing_size\u001b[49m\u001b[43m,\u001b[49m\u001b[43m \u001b[49m\u001b[43moutput_dir\u001b[49m\u001b[43m,\u001b[49m\u001b[43m \u001b[49m\u001b[43mimg_type\u001b[49m\u001b[43m,\u001b[49m\u001b[43m \u001b[49m\u001b[43mpng_dir\u001b[49m\u001b[43m,\u001b[49m\u001b[43m \u001b[49m\u001b[43mtexture_dir\u001b[49m\u001b[43m)\u001b[49m\n",
      "\u001b[36mFile \u001b[39m\u001b[32m~/Projects/Personal/TEED/synthetic_data/synthetic_dataset_generator.py:736\u001b[39m, in \u001b[36mgenerate_improved_synthetic_sample\u001b[39m\u001b[34m(image_size, num_synthetic, preprocessing_size, output_dir, img_type, png_dir, texture_dir, real_background_dir)\u001b[39m\n\u001b[32m    734\u001b[39m      mask_i = item[\u001b[33m'\u001b[39m\u001b[33mmask\u001b[39m\u001b[33m'\u001b[39m]\n\u001b[32m    735\u001b[39m      pattern_i = item[\u001b[33m'\u001b[39m\u001b[33mpattern\u001b[39m\u001b[33m'\u001b[39m]\n\u001b[32m--> \u001b[39m\u001b[32m736\u001b[39m      fill_mask_3d = \u001b[43mnp\u001b[49m\u001b[43m.\u001b[49m\u001b[43mstack\u001b[49m\u001b[43m(\u001b[49m\u001b[43m[\u001b[49m\u001b[43mmask_i\u001b[49m\u001b[43m,\u001b[49m\u001b[43m \u001b[49m\u001b[43mmask_i\u001b[49m\u001b[43m,\u001b[49m\u001b[43m \u001b[49m\u001b[43mmask_i\u001b[49m\u001b[43m]\u001b[49m\u001b[43m,\u001b[49m\u001b[43m \u001b[49m\u001b[43maxis\u001b[49m\u001b[43m=\u001b[49m\u001b[32;43m2\u001b[39;49m\u001b[43m)\u001b[49m / \u001b[32m255.0\u001b[39m\n\u001b[32m    737\u001b[39m      final_image = final_image * (\u001b[32m1\u001b[39m - fill_mask_3d) + pattern_i * fill_mask_3d\n\u001b[32m    739\u001b[39m \u001b[38;5;66;03m# Ensure correct type before proceeding\u001b[39;00m\n",
      "\u001b[36mFile \u001b[39m\u001b[32m~/Projects/Personal/TEED/.venv/lib/python3.12/site-packages/numpy/_core/shape_base.py:465\u001b[39m, in \u001b[36mstack\u001b[39m\u001b[34m(arrays, axis, out, dtype, casting)\u001b[39m\n\u001b[32m    462\u001b[39m result_ndim = arrays[\u001b[32m0\u001b[39m].ndim + \u001b[32m1\u001b[39m\n\u001b[32m    463\u001b[39m axis = normalize_axis_index(axis, result_ndim)\n\u001b[32m--> \u001b[39m\u001b[32m465\u001b[39m sl = (\u001b[38;5;28;43mslice\u001b[39;49m\u001b[43m(\u001b[49m\u001b[38;5;28;43;01mNone\u001b[39;49;00m\u001b[43m)\u001b[49m,) * axis + (_nx.newaxis,)\n\u001b[32m    466\u001b[39m expanded_arrays = [arr[sl] \u001b[38;5;28;01mfor\u001b[39;00m arr \u001b[38;5;129;01min\u001b[39;00m arrays]\n\u001b[32m    467\u001b[39m \u001b[38;5;28;01mreturn\u001b[39;00m _nx.concatenate(expanded_arrays, axis=axis, out=out,\n\u001b[32m    468\u001b[39m                        dtype=dtype, casting=casting)\n",
      "\u001b[31mKeyboardInterrupt\u001b[39m: "
     ]
    }
   ],
   "source": [
    "from synthetic_data import generate_synthetic\n",
    "generate_synthetic(10, 10)"
   ]
  },
  {
   "cell_type": "code",
   "execution_count": 3,
   "metadata": {},
   "outputs": [
    {
     "name": "stdout",
     "output_type": "stream",
     "text": [
      "=========== Data augmentation just for 720x1280 image size ==============\n",
      "Image augmentation by splitting up have started!\n",
      "Directories have been created:  data/BIPED/BIPED/edges/imgs/train/rgbr/aug\n",
      "Directories have been created:  data/BIPED/BIPED/edges/edge_maps/train/rgbr/aug\n",
      "Directories have been created:  data/BIPED/BIPED/edges/imgs/train/rgbr/aug/p1\n",
      "Directories have been created:  data/BIPED/BIPED/edges/imgs/train/rgbr/aug/p2\n",
      "Directories have been created:  data/BIPED/BIPED/edges/edge_maps/train/rgbr/aug/p1\n",
      "Directories have been created:  data/BIPED/BIPED/edges/edge_maps/train/rgbr/aug/p2\n",
      "saved image:  RGB_001.jpg RGB_001.png\n",
      "saved image:  RGB_002.jpg RGB_002.png\n",
      "saved image:  RGB_003.jpg RGB_003.png\n",
      "saved image:  RGB_004.jpg RGB_004.png\n",
      "saved image:  RGB_005.jpg RGB_005.png\n",
      "saved image:  RGB_006.jpg RGB_006.png\n",
      "saved image:  RGB_007.jpg RGB_007.png\n",
      "saved image:  RGB_009.jpg RGB_009.png\n",
      "saved image:  RGB_011.jpg RGB_011.png\n",
      "saved image:  RGB_012.jpg RGB_012.png\n",
      "saved image:  RGB_013.jpg RGB_013.png\n",
      "saved image:  RGB_014.jpg RGB_014.png\n",
      "saved image:  RGB_015.jpg RGB_015.png\n",
      "saved image:  RGB_016.jpg RGB_016.png\n",
      "saved image:  RGB_018.jpg RGB_018.png\n",
      "saved image:  RGB_019.jpg RGB_019.png\n",
      "saved image:  RGB_020.jpg RGB_020.png\n",
      "saved image:  RGB_021.jpg RGB_021.png\n",
      "saved image:  RGB_022.jpg RGB_022.png\n",
      "saved image:  RGB_023.jpg RGB_023.png\n",
      "saved image:  RGB_024.jpg RGB_024.png\n",
      "saved image:  RGB_026.jpg RGB_026.png\n",
      "saved image:  RGB_027.jpg RGB_027.png\n",
      "saved image:  RGB_028.jpg RGB_028.png\n",
      "saved image:  RGB_030.jpg RGB_030.png\n",
      "saved image:  RGB_031.jpg RGB_031.png\n",
      "saved image:  RGB_032.jpg RGB_032.png\n",
      "saved image:  RGB_034.jpg RGB_034.png\n",
      "saved image:  RGB_036.jpg RGB_036.png\n",
      "saved image:  RGB_037.jpg RGB_037.png\n",
      "saved image:  RGB_038.jpg RGB_038.png\n",
      "saved image:  RGB_040.jpg RGB_040.png\n",
      "saved image:  RGB_041.jpg RGB_041.png\n",
      "saved image:  RGB_043.jpg RGB_043.png\n",
      "saved image:  RGB_044.jpg RGB_044.png\n",
      "saved image:  RGB_045.jpg RGB_045.png\n",
      "saved image:  RGB_046.jpg RGB_046.png\n",
      "saved image:  RGB_047.jpg RGB_047.png\n",
      "saved image:  RGB_048.jpg RGB_048.png\n",
      "saved image:  RGB_049.jpg RGB_049.png\n",
      "saved image:  RGB_050.jpg RGB_050.png\n",
      "saved image:  RGB_051.jpg RGB_051.png\n",
      "saved image:  RGB_053.jpg RGB_053.png\n",
      "saved image:  RGB_054.jpg RGB_054.png\n",
      "saved image:  RGB_055.jpg RGB_055.png\n",
      "saved image:  RGB_058.jpg RGB_058.png\n",
      "saved image:  RGB_060.jpg RGB_060.png\n",
      "saved image:  RGB_061.jpg RGB_061.png\n",
      "saved image:  RGB_062.jpg RGB_062.png\n",
      "saved image:  RGB_063.jpg RGB_063.png\n",
      "saved image:  RGB_064.jpg RGB_064.png\n",
      "saved image:  RGB_065.jpg RGB_065.png\n",
      "saved image:  RGB_068.jpg RGB_068.png\n",
      "saved image:  RGB_069.jpg RGB_069.png\n",
      "saved image:  RGB_072.jpg RGB_072.png\n",
      "saved image:  RGB_073.jpg RGB_073.png\n",
      "saved image:  RGB_074.jpg RGB_074.png\n",
      "saved image:  RGB_076.jpg RGB_076.png\n",
      "saved image:  RGB_077.jpg RGB_077.png\n",
      "saved image:  RGB_078.jpg RGB_078.png\n",
      "saved image:  RGB_079.jpg RGB_079.png\n",
      "saved image:  RGB_080.jpg RGB_080.png\n",
      "saved image:  RGB_082.jpg RGB_082.png\n",
      "saved image:  RGB_084.jpg RGB_084.png\n",
      "saved image:  RGB_085.jpg RGB_085.png\n",
      "saved image:  RGB_086.jpg RGB_086.png\n",
      "saved image:  RGB_087.jpg RGB_087.png\n",
      "saved image:  RGB_088.jpg RGB_088.png\n",
      "saved image:  RGB_089.jpg RGB_089.png\n",
      "saved image:  RGB_091.jpg RGB_091.png\n",
      "saved image:  RGB_093.jpg RGB_093.png\n",
      "saved image:  RGB_095.jpg RGB_095.png\n",
      "saved image:  RGB_096.jpg RGB_096.png\n",
      "saved image:  RGB_097.jpg RGB_097.png\n",
      "saved image:  RGB_099.jpg RGB_099.png\n",
      "saved image:  RGB_100.jpg RGB_100.png\n",
      "saved image:  RGB_101.jpg RGB_101.png\n",
      "saved image:  RGB_103.jpg RGB_103.png\n",
      "saved image:  RGB_104.jpg RGB_104.png\n",
      "saved image:  RGB_105.jpg RGB_105.png\n",
      "saved image:  RGB_106.jpg RGB_106.png\n",
      "saved image:  RGB_108.jpg RGB_108.png\n",
      "saved image:  RGB_109.jpg RGB_109.png\n",
      "saved image:  RGB_110.jpg RGB_110.png\n",
      "saved image:  RGB_112.jpg RGB_112.png\n",
      "saved image:  RGB_113.jpg RGB_113.png\n",
      "saved image:  RGB_114.jpg RGB_114.png\n",
      "saved image:  RGB_115.jpg RGB_115.png\n",
      "saved image:  RGB_116.jpg RGB_116.png\n",
      "saved image:  RGB_117.jpg RGB_117.png\n",
      "saved image:  RGB_118.jpg RGB_118.png\n",
      "saved image:  RGB_119.jpg RGB_119.png\n",
      "saved image:  RGB_121.jpg RGB_121.png\n",
      "saved image:  RGB_122.jpg RGB_122.png\n",
      "saved image:  RGB_123.jpg RGB_123.png\n",
      "saved image:  RGB_126.jpg RGB_126.png\n",
      "saved image:  RGB_127.jpg RGB_127.png\n",
      "saved image:  RGB_128.jpg RGB_128.png\n",
      "saved image:  RGB_129.jpg RGB_129.png\n",
      "saved image:  RGB_130.jpg RGB_130.png\n",
      "saved image:  RGB_131.jpg RGB_131.png\n",
      "saved image:  RGB_134.jpg RGB_134.png\n",
      "saved image:  RGB_135.jpg RGB_135.png\n",
      "saved image:  RGB_136.jpg RGB_136.png\n",
      "saved image:  RGB_137.jpg RGB_137.png\n",
      "saved image:  RGB_140.jpg RGB_140.png\n",
      "saved image:  RGB_142.jpg RGB_142.png\n",
      "saved image:  RGB_143.jpg RGB_143.png\n",
      "saved image:  RGB_144.jpg RGB_144.png\n",
      "saved image:  RGB_146.jpg RGB_146.png\n",
      "saved image:  RGB_147.jpg RGB_147.png\n",
      "saved image:  RGB_148.jpg RGB_148.png\n",
      "saved image:  RGB_149.jpg RGB_149.png\n",
      "saved image:  RGB_151.jpg RGB_151.png\n",
      "saved image:  RGB_152.jpg RGB_152.png\n",
      "saved image:  RGB_153.jpg RGB_153.png\n",
      "saved image:  RGB_154.jpg RGB_154.png\n",
      "saved image:  RGB_155.jpg RGB_155.png\n",
      "saved image:  RGB_156.jpg RGB_156.png\n",
      "saved image:  RGB_157.jpg RGB_157.png\n",
      "saved image:  RGB_158.jpg RGB_158.png\n",
      "saved image:  RGB_159.jpg RGB_159.png\n",
      "saved image:  RGB_161.jpg RGB_161.png\n",
      "saved image:  RGB_162.jpg RGB_162.png\n",
      "saved image:  RGB_163.jpg RGB_163.png\n",
      "saved image:  RGB_164.jpg RGB_164.png\n",
      "saved image:  RGB_165.jpg RGB_165.png\n",
      "saved image:  RGB_166.jpg RGB_166.png\n",
      "saved image:  RGB_167.jpg RGB_167.png\n",
      "saved image:  RGB_168.jpg RGB_168.png\n",
      "saved image:  RGB_169.jpg RGB_169.png\n",
      "saved image:  RGB_171.jpg RGB_171.png\n",
      "saved image:  RGB_172.jpg RGB_172.png\n",
      "saved image:  RGB_173.jpg RGB_173.png\n",
      "saved image:  RGB_174.jpg RGB_174.png\n",
      "saved image:  RGB_175.jpg RGB_175.png\n",
      "saved image:  RGB_176.jpg RGB_176.png\n",
      "saved image:  RGB_177.jpg RGB_177.png\n",
      "saved image:  RGB_178.jpg RGB_178.png\n",
      "saved image:  RGB_179.jpg RGB_179.png\n",
      "saved image:  RGB_180.jpg RGB_180.png\n",
      "saved image:  RGB_183.jpg RGB_183.png\n",
      "saved image:  RGB_184.jpg RGB_184.png\n",
      "saved image:  RGB_185.jpg RGB_185.png\n",
      "saved image:  RGB_186.jpg RGB_186.png\n",
      "saved image:  RGB_187.jpg RGB_187.png\n",
      "saved image:  RGB_188.jpg RGB_188.png\n",
      "saved image:  RGB_191.jpg RGB_191.png\n",
      "saved image:  RGB_193.jpg RGB_193.png\n",
      "saved image:  RGB_194.jpg RGB_194.png\n",
      "saved image:  RGB_195.jpg RGB_195.png\n",
      "saved image:  RGB_196.jpg RGB_196.png\n",
      "saved image:  RGB_197.jpg RGB_197.png\n",
      "saved image:  RGB_198.jpg RGB_198.png\n",
      "saved image:  RGB_199.jpg RGB_199.png\n",
      "saved image:  RGB_200.jpg RGB_200.png\n",
      "saved image:  RGB_201.jpg RGB_201.png\n",
      "saved image:  RGB_202.jpg RGB_202.png\n",
      "saved image:  RGB_203.jpg RGB_203.png\n",
      "saved image:  RGB_204.jpg RGB_204.png\n",
      "saved image:  RGB_205.jpg RGB_205.png\n",
      "saved image:  RGB_207.jpg RGB_207.png\n",
      "saved image:  RGB_208.jpg RGB_208.png\n",
      "saved image:  RGB_209.jpg RGB_209.png\n",
      "saved image:  RGB_210.jpg RGB_210.png\n",
      "saved image:  RGB_211.jpg RGB_211.png\n",
      "saved image:  RGB_213.jpg RGB_213.png\n",
      "saved image:  RGB_216.jpg RGB_216.png\n",
      "saved image:  RGB_217.jpg RGB_217.png\n",
      "saved image:  RGB_218.jpg RGB_218.png\n",
      "saved image:  RGB_219.jpg RGB_219.png\n",
      "saved image:  RGB_220.jpg RGB_220.png\n",
      "saved image:  RGB_221.jpg RGB_221.png\n",
      "saved image:  RGB_222.jpg RGB_222.png\n",
      "saved image:  RGB_223.jpg RGB_223.png\n",
      "saved image:  RGB_224.jpg RGB_224.png\n",
      "saved image:  RGB_225.jpg RGB_225.png\n",
      "saved image:  RGB_227.jpg RGB_227.png\n",
      "saved image:  RGB_229.jpg RGB_229.png\n",
      "saved image:  RGB_230.jpg RGB_230.png\n",
      "saved image:  RGB_231.jpg RGB_231.png\n",
      "saved image:  RGB_233.jpg RGB_233.png\n",
      "saved image:  RGB_235.jpg RGB_235.png\n",
      "saved image:  RGB_236.jpg RGB_236.png\n",
      "saved image:  RGB_238.jpg RGB_238.png\n",
      "saved image:  RGB_239.jpg RGB_239.png\n",
      "saved image:  RGB_240.jpg RGB_240.png\n",
      "saved image:  RGB_241.jpg RGB_241.png\n",
      "saved image:  RGB_242.jpg RGB_242.png\n",
      "saved image:  RGB_244.jpg RGB_244.png\n",
      "saved image:  RGB_245.jpg RGB_245.png\n",
      "saved image:  RGB_246.jpg RGB_246.png\n",
      "saved image:  RGB_249.jpg RGB_249.png\n",
      "saved image:  RGB_250.jpg RGB_250.png\n",
      "saved image:  RGB_251.jpg RGB_251.png\n",
      "saved image:  RGB_252.jpg RGB_252.png\n",
      "saved image:  RGB_255.jpg RGB_255.png\n",
      "saved image:  RGB_256.jpg RGB_256.png\n",
      "saved image:  RGB_257.jpg RGB_257.png\n",
      "saved image:  RGB_258.jpg RGB_258.png\n",
      "...splitting up augmentation done!\n",
      "data saved in:  ['p1', 'p2', 'real'] and in ['p1', 'p2', 'real']\n",
      "Image augmentation by flipping have started!\n",
      "Directories have been created:  data/BIPED/BIPED/edges/imgs/train/rgbr/aug/p1_flip\n",
      "Directories have been created:  data/BIPED/BIPED/edges/edge_maps/train/rgbr/aug/p1_flip\n",
      "Working on the dir:  data/BIPED/BIPED/edges/imgs/train/rgbr/aug/p1 data/BIPED/BIPED/edges/edge_maps/train/rgbr/aug/p1\n",
      "End flipping file in data/BIPED/BIPED/edges/imgs/train/rgbr/aug/p1\n",
      "Directories have been created:  data/BIPED/BIPED/edges/imgs/train/rgbr/aug/p2_flip\n",
      "Directories have been created:  data/BIPED/BIPED/edges/edge_maps/train/rgbr/aug/p2_flip\n",
      "Working on the dir:  data/BIPED/BIPED/edges/imgs/train/rgbr/aug/p2 data/BIPED/BIPED/edges/edge_maps/train/rgbr/aug/p2\n",
      "End flipping file in data/BIPED/BIPED/edges/imgs/train/rgbr/aug/p2\n",
      "Directories have been created:  data/BIPED/BIPED/edges/imgs/train/rgbr/aug/real_flip\n",
      "Directories have been created:  data/BIPED/BIPED/edges/edge_maps/train/rgbr/aug/real_flip\n",
      "Working on the dir:  data/BIPED/BIPED/edges/imgs/train/rgbr/aug/real data/BIPED/BIPED/edges/edge_maps/train/rgbr/aug/real\n",
      "End flipping file in data/BIPED/BIPED/edges/imgs/train/rgbr/aug/real\n",
      "... Flipping  data augmentation finished\n",
      "Image augmentation by gamma correction have started!\n",
      "Directories have been created:  data/BIPED/BIPED/edges/imgs/train/rgbr/aug/p1_ga30\n",
      "Directories have been created:  data/BIPED/BIPED/edges/imgs/train/rgbr/aug/p1_ga60\n",
      "Directories have been created:  data/BIPED/BIPED/edges/edge_maps/train/rgbr/aug/p1_ga30\n",
      "Directories have been created:  data/BIPED/BIPED/edges/edge_maps/train/rgbr/aug/p1_ga60\n",
      "Working on the dir:  data/BIPED/BIPED/edges/imgs/train/rgbr/aug/p1 data/BIPED/BIPED/edges/edge_maps/train/rgbr/aug/p1\n",
      "End gamma correction, file in data/BIPED/BIPED/edges/imgs/train/rgbr/aug/p1\n",
      "Directories have been created:  data/BIPED/BIPED/edges/imgs/train/rgbr/aug/p1_flip_ga30\n",
      "Directories have been created:  data/BIPED/BIPED/edges/imgs/train/rgbr/aug/p1_flip_ga60\n",
      "Directories have been created:  data/BIPED/BIPED/edges/edge_maps/train/rgbr/aug/p1_flip_ga30\n",
      "Directories have been created:  data/BIPED/BIPED/edges/edge_maps/train/rgbr/aug/p1_flip_ga60\n",
      "Working on the dir:  data/BIPED/BIPED/edges/imgs/train/rgbr/aug/p1_flip data/BIPED/BIPED/edges/edge_maps/train/rgbr/aug/p1_flip\n",
      "End gamma correction, file in data/BIPED/BIPED/edges/imgs/train/rgbr/aug/p1_flip\n",
      "Directories have been created:  data/BIPED/BIPED/edges/imgs/train/rgbr/aug/p2_ga30\n",
      "Directories have been created:  data/BIPED/BIPED/edges/imgs/train/rgbr/aug/p2_ga60\n",
      "Directories have been created:  data/BIPED/BIPED/edges/edge_maps/train/rgbr/aug/p2_ga30\n",
      "Directories have been created:  data/BIPED/BIPED/edges/edge_maps/train/rgbr/aug/p2_ga60\n",
      "Working on the dir:  data/BIPED/BIPED/edges/imgs/train/rgbr/aug/p2 data/BIPED/BIPED/edges/edge_maps/train/rgbr/aug/p2\n",
      "End gamma correction, file in data/BIPED/BIPED/edges/imgs/train/rgbr/aug/p2\n",
      "Directories have been created:  data/BIPED/BIPED/edges/imgs/train/rgbr/aug/p2_flip_ga30\n",
      "Directories have been created:  data/BIPED/BIPED/edges/imgs/train/rgbr/aug/p2_flip_ga60\n",
      "Directories have been created:  data/BIPED/BIPED/edges/edge_maps/train/rgbr/aug/p2_flip_ga30\n",
      "Directories have been created:  data/BIPED/BIPED/edges/edge_maps/train/rgbr/aug/p2_flip_ga60\n",
      "Working on the dir:  data/BIPED/BIPED/edges/imgs/train/rgbr/aug/p2_flip data/BIPED/BIPED/edges/edge_maps/train/rgbr/aug/p2_flip\n",
      "End gamma correction, file in data/BIPED/BIPED/edges/imgs/train/rgbr/aug/p2_flip\n",
      "Directories have been created:  data/BIPED/BIPED/edges/imgs/train/rgbr/aug/real_ga30\n",
      "Directories have been created:  data/BIPED/BIPED/edges/imgs/train/rgbr/aug/real_ga60\n",
      "Directories have been created:  data/BIPED/BIPED/edges/edge_maps/train/rgbr/aug/real_ga30\n",
      "Directories have been created:  data/BIPED/BIPED/edges/edge_maps/train/rgbr/aug/real_ga60\n",
      "Working on the dir:  data/BIPED/BIPED/edges/imgs/train/rgbr/aug/real data/BIPED/BIPED/edges/edge_maps/train/rgbr/aug/real\n",
      "End gamma correction, file in data/BIPED/BIPED/edges/imgs/train/rgbr/aug/real\n",
      "Directories have been created:  data/BIPED/BIPED/edges/imgs/train/rgbr/aug/real_flip_ga30\n",
      "Directories have been created:  data/BIPED/BIPED/edges/imgs/train/rgbr/aug/real_flip_ga60\n",
      "Directories have been created:  data/BIPED/BIPED/edges/edge_maps/train/rgbr/aug/real_flip_ga30\n",
      "Directories have been created:  data/BIPED/BIPED/edges/edge_maps/train/rgbr/aug/real_flip_ga60\n",
      "Working on the dir:  data/BIPED/BIPED/edges/imgs/train/rgbr/aug/real_flip data/BIPED/BIPED/edges/edge_maps/train/rgbr/aug/real_flip\n",
      "End gamma correction, file in data/BIPED/BIPED/edges/imgs/train/rgbr/aug/real_flip\n",
      "... gamma correction:  data augmentation terminated\n",
      "Peparing the list of BIPED...\n",
      "Saved in>  data/BIPED/BIPED/train_pair.lst\n"
     ]
    }
   ],
   "source": [
    "#data augmentation\n",
    "from data_augmentation import run_augmentation\n",
    "run_augmentation('data/BIPED', rotation = False)"
   ]
  },
  {
   "cell_type": "code",
   "execution_count": 1,
   "metadata": {},
   "outputs": [
    {
     "name": "stdout",
     "output_type": "stream",
     "text": [
      "Number of GPU's available: 1\n",
      "Pytorch version: 2.6.0+cu124\n",
      "Trainimage mean: [103.939, 116.779, 123.68, 137.86]\n",
      "Test image mean: [104.007, 116.669, 122.679, 137.86]\n",
      "output_dir: result/BIPED2UDED\n",
      "Restoring weights from: checkpoints/BIPED/5_model_original.pth\n",
      "['01-0843x4.png']: torch.Size([1, 3, 512, 768])\n",
      "['02-0868x4.png']: torch.Size([1, 3, 512, 768])\n",
      "['03-35028.png']: torch.Size([1, 3, 488, 728])\n",
      "['04-0896x4.png']: torch.Size([1, 3, 512, 768])\n",
      "['05-WIREFRAME-2.png']: torch.Size([1, 3, 504, 752])\n",
      "['06-elephant_3.png']: torch.Size([1, 3, 512, 512])\n",
      "['07-CITYSCAPES-2C.png']: torch.Size([1, 3, 720, 720])\n",
      "['08-ADE20K-1C.png']: torch.Size([1, 3, 720, 720])\n",
      "['09-MDBD-1C.png']: torch.Size([1, 3, 720, 720])\n",
      "['11-NYUD-2.png']: torch.Size([1, 3, 640, 848])\n",
      "['12-cameraman.png']: torch.Size([1, 3, 536, 536])\n",
      "['13-BIPED-1C.png']: torch.Size([1, 3, 720, 720])\n",
      "['14-comic.png']: torch.Size([1, 3, 544, 376])\n",
      "['15-P1020854.png']: torch.Size([1, 3, 720, 960])\n",
      "['16-tire.png']: torch.Size([1, 3, 512, 512])\n",
      "['17-1194.png']: torch.Size([1, 3, 600, 600])\n",
      "['18-img_5935.png']: torch.Size([1, 3, 640, 848])\n",
      "['19-img_6150.png']: torch.Size([1, 3, 640, 848])\n",
      "['20-2009_003829.png']: torch.Size([1, 3, 504, 752])\n",
      "['21-00065305.png']: torch.Size([1, 3, 608, 752])\n",
      "['22-335094.png']: torch.Size([1, 3, 488, 728])\n",
      "['23-img_011_SRF_2_HR.png']: torch.Size([1, 3, 776, 424])\n",
      "['24-2010_002838.png']: torch.Size([1, 3, 752, 640])\n",
      "['25-2008_002622.png']: torch.Size([1, 3, 752, 536])\n",
      "['26-P1020177.png']: torch.Size([1, 3, 720, 960])\n",
      "['27-img_5264.png']: torch.Size([1, 3, 640, 848])\n",
      "['28-img_043_SRF_2_HR.png']: torch.Size([1, 3, 504, 768])\n",
      "['29-img_5182.png']: torch.Size([1, 3, 640, 848])\n",
      "['30-167062.png']: torch.Size([1, 3, 488, 728])\n",
      "******** Testing finished in UDED dataset. *****\n",
      "FPS: 77.010260.4\n",
      "-------------------------------------------------------\n",
      "TED parameters:\n",
      "58910\n",
      "-------------------------------------------------------\n"
     ]
    }
   ],
   "source": [
    "from teed import main\n",
    "main()"
   ]
  },
  {
   "cell_type": "code",
   "execution_count": null,
   "metadata": {},
   "outputs": [],
   "source": []
  },
  {
   "cell_type": "code",
   "execution_count": 5,
   "metadata": {},
   "outputs": [
    {
     "name": "stdout",
     "output_type": "stream",
     "text": [
      "Valid images count: 573\n",
      "Invalid images count: 0\n"
     ]
    }
   ],
   "source": [
    "from pathlib import Path\n",
    "import cv2\n",
    "\n",
    "def validate_images(texture_dir):\n",
    "    texture_dir = Path(texture_dir)\n",
    "    texture_files = list(texture_dir.glob('*'))\n",
    "    valid_images = []\n",
    "    invalid_images = []\n",
    "\n",
    "    for file in texture_files:\n",
    "        img = cv2.imread(str(file))\n",
    "        if img is None:\n",
    "            print(f\"Invalid image: {file}\")\n",
    "            invalid_images.append(file)\n",
    "        else:\n",
    "            valid_images.append(file)\n",
    "    \n",
    "    return valid_images, invalid_images\n",
    "\n",
    "if __name__ == \"__main__\":\n",
    "    texture_directory = \"data/textures\"\n",
    "    valid, invalid = validate_images(texture_directory)\n",
    "    print(f\"Valid images count: {len(valid)}\")\n",
    "    print(f\"Invalid images count: {len(invalid)}\")"
   ]
  },
  {
   "cell_type": "code",
   "execution_count": 4,
   "metadata": {},
   "outputs": [],
   "source": [
    "!find . -name '.DS_Store' -type f -delete"
   ]
  },
  {
   "cell_type": "code",
   "execution_count": null,
   "metadata": {},
   "outputs": [],
   "source": []
  }
 ],
 "metadata": {
  "kernelspec": {
   "display_name": ".venv",
   "language": "python",
   "name": "python3"
  },
  "language_info": {
   "codemirror_mode": {
    "name": "ipython",
    "version": 3
   },
   "file_extension": ".py",
   "mimetype": "text/x-python",
   "name": "python",
   "nbconvert_exporter": "python",
   "pygments_lexer": "ipython3",
   "version": "3.12.1"
  }
 },
 "nbformat": 4,
 "nbformat_minor": 2
}
