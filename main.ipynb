{
 "cells": [
  {
   "cell_type": "code",
   "execution_count": null,
   "metadata": {},
   "outputs": [],
   "source": [
    "from synthetic_data import generate_synthetic\n",
    "generate_synthetic(0, 10)"
   ]
  },
  {
   "cell_type": "code",
   "execution_count": null,
   "metadata": {},
   "outputs": [],
   "source": [
    "#data augmentation\n",
    "from data_augmentation import run_augmentation\n",
    "run_augmentation('data/BIPED', rotation = False)"
   ]
  },
  {
   "cell_type": "code",
   "execution_count": null,
   "metadata": {},
   "outputs": [],
   "source": [
    "from teed import main\n",
    "main()"
   ]
  },
  {
   "cell_type": "code",
   "execution_count": null,
   "metadata": {},
   "outputs": [],
   "source": []
  },
  {
   "cell_type": "code",
   "execution_count": null,
   "metadata": {},
   "outputs": [],
   "source": [
    "from pathlib import Path\n",
    "import cv2\n",
    "\n",
    "def validate_images(texture_dir):\n",
    "    texture_dir = Path(texture_dir)\n",
    "    texture_files = list(texture_dir.glob('*'))\n",
    "    valid_images = []\n",
    "    invalid_images = []\n",
    "\n",
    "    for file in texture_files:\n",
    "        img = cv2.imread(str(file))\n",
    "        if img is None:\n",
    "            print(f\"Invalid image: {file}\")\n",
    "            invalid_images.append(file)\n",
    "        else:\n",
    "            valid_images.append(file)\n",
    "    \n",
    "    return valid_images, invalid_images\n",
    "\n",
    "if __name__ == \"__main__\":\n",
    "    texture_directory = \"data/textures\"\n",
    "    valid, invalid = validate_images(texture_directory)\n",
    "    print(f\"Valid images count: {len(valid)}\")\n",
    "    print(f\"Invalid images count: {len(invalid)}\")"
   ]
  },
  {
   "cell_type": "code",
   "execution_count": 4,
   "metadata": {},
   "outputs": [],
   "source": [
    "!find . -name '.DS_Store' -type f -delete"
   ]
  },
  {
   "cell_type": "code",
   "execution_count": null,
   "metadata": {},
   "outputs": [],
   "source": []
  }
 ],
 "metadata": {
  "kernelspec": {
   "display_name": ".venv",
   "language": "python",
   "name": "python3"
  },
  "language_info": {
   "codemirror_mode": {
    "name": "ipython",
    "version": 3
   },
   "file_extension": ".py",
   "mimetype": "text/x-python",
   "name": "python",
   "nbconvert_exporter": "python",
   "pygments_lexer": "ipython3",
   "version": "3.12.1"
  }
 },
 "nbformat": 4,
 "nbformat_minor": 2
}
