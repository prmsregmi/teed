{
 "cells": [
  {
   "cell_type": "code",
   "execution_count": 1,
   "metadata": {},
   "outputs": [
    {
     "name": "stdout",
     "output_type": "stream",
     "text": [
      "Training details>  ['TEED BIPED+BRIND-trainingdataLoader BRIND light AF -USNet--noBN xav init normal bdcnLoss2+cats2loss +DoubleFusion-3AF, AF sum RL= 0.0008 WD= 0.0002 image size = 300 adjust LR=[4] LRs= [8e-05] Loss Function= BDCNloss2 + CAST-loss2.py Wed Mar 12 16:42:22 2025 trained on CLASSIC']\n",
      "Number of GPU's available: 0\n",
      "Pytorch version: 2.6.0\n",
      "Trainimage mean: [104.007, 116.669, 122.679, 137.86]\n",
      "Test image mean: [104.007, 116.669, 122.679, 137.86]\n",
      "-------------------------------------------------------\n",
      "TEED parameters:\n",
      "58910\n",
      "-------------------------------------------------------\n",
      "------ Random seed applied-------------\n",
      "**************** Validating the training from the scratch **********\n",
      "Wed Mar 12 16:42:29 2025 Epoch: 0 Sample 0/225 Loss: 10.7447\n",
      "Last learning rate>  0.0008\n",
      "**************** Validating the training from the scratch **********\n",
      "Wed Mar 12 16:44:24 2025 Epoch: 1 Sample 0/225 Loss: 4.5976\n",
      "Last learning rate>  0.0008\n",
      "**************** Validating the training from the scratch **********\n",
      "Wed Mar 12 16:46:14 2025 Epoch: 2 Sample 0/225 Loss: 11.9035\n",
      "Last learning rate>  0.0008\n",
      "**************** Validating the training from the scratch **********\n",
      "Wed Mar 12 16:48:23 2025 Epoch: 3 Sample 0/225 Loss: 12.6237\n",
      "Last learning rate>  0.0008\n",
      "**************** Validating the training from the scratch **********\n",
      "Wed Mar 12 16:50:38 2025 Epoch: 4 Sample 0/225 Loss: 10.0141\n",
      "Last learning rate>  8e-05\n",
      "------ Random seed applied-------------\n",
      "**************** Validating the training from the scratch **********\n",
      "Wed Mar 12 17:05:45 2025 Epoch: 5 Sample 0/225 Loss: 11.9829\n",
      "Last learning rate>  8e-05\n",
      "**************** Validating the training from the scratch **********\n",
      "Wed Mar 12 17:15:10 2025 Epoch: 6 Sample 0/225 Loss: 9.9383\n",
      "Last learning rate>  8e-05\n",
      "**************** Validating the training from the scratch **********\n",
      "Wed Mar 12 17:27:38 2025 Epoch: 7 Sample 0/225 Loss: 8.0071\n",
      "Last learning rate>  8e-05\n",
      "-------------------------------------------------------\n",
      "TEED parameters:\n",
      "58910\n",
      "-------------------------------------------------------\n"
     ]
    }
   ],
   "source": [
    "from main import main\n",
    "from main import parse_args\n",
    "is_testing =False # True to use TEED for testing\n",
    "args, train_info = parse_args(is_testing=is_testing)\n",
    "main(args, train_info)"
   ]
  },
  {
   "cell_type": "code",
   "execution_count": null,
   "metadata": {},
   "outputs": [],
   "source": []
  },
  {
   "cell_type": "code",
   "execution_count": null,
   "metadata": {},
   "outputs": [],
   "source": []
  }
 ],
 "metadata": {
  "kernelspec": {
   "display_name": ".venv",
   "language": "python",
   "name": "python3"
  },
  "language_info": {
   "codemirror_mode": {
    "name": "ipython",
    "version": 3
   },
   "file_extension": ".py",
   "mimetype": "text/x-python",
   "name": "python",
   "nbconvert_exporter": "python",
   "pygments_lexer": "ipython3",
   "version": "3.12.1"
  }
 },
 "nbformat": 4,
 "nbformat_minor": 2
}
